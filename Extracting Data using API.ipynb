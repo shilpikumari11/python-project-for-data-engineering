{
 "cells": [
  {
   "cell_type": "markdown",
   "metadata": {},
   "source": [
    "<p style=\"text-align:center\">\n",
    "    <a href=\"https://skills.network/?utm_medium=Exinfluencer&utm_source=Exinfluencer&utm_content=000026UJ&utm_term=10006555&utm_id=NA-SkillsNetwork-Channel-SkillsNetworkCoursesIBMDeveloperSkillsNetworkPY0221ENSkillsNetwork23455645-2022-01-01\" target=\"_blank\">\n",
    "    <img src=\"https://cf-courses-data.s3.us.cloud-object-storage.appdomain.cloud/assets/logos/SN_web_lightmode.png\" width=\"200\" alt=\"Skills Network Logo\"  />\n",
    "    </a>\n",
    "</p>\n"
   ]
  },
  {
   "cell_type": "markdown",
   "metadata": {},
   "source": [
    "# Peer Review Assignment - Data Engineer - Extract API Data\n"
   ]
  },
  {
   "cell_type": "markdown",
   "metadata": {},
   "source": [
    "Estimated time needed: **20** minutes\n"
   ]
  },
  {
   "cell_type": "markdown",
   "metadata": {},
   "source": [
    "## Objectives\n",
    "\n",
    "In this part you will:\n",
    "\n",
    "*   Collect exchange rate data using an API\n",
    "*   Store the data as a CSV\n"
   ]
  },
  {
   "cell_type": "markdown",
   "metadata": {},
   "source": [
    "For this lab, we are going to be using Python and several Python libraries. Some of these libraries might be installed in your lab environment or in SN Labs. Others may need to be installed by you. The cells below will install these libraries when executed.\n"
   ]
  },
  {
   "cell_type": "code",
   "execution_count": null,
   "metadata": {},
   "outputs": [],
   "source": [
    "#!mamba install pandas==1.3.3 -y\n",
    "#!mamba install requests==2.26.0 -y"
   ]
  },
  {
   "cell_type": "markdown",
   "metadata": {},
   "source": [
    "## Imports\n",
    "\n",
    "Import any additional libraries you may need here.\n"
   ]
  },
  {
   "cell_type": "code",
   "execution_count": 1,
   "metadata": {
    "tags": []
   },
   "outputs": [],
   "source": [
    "import requests\n",
    "import pandas as pd"
   ]
  },
  {
   "cell_type": "markdown",
   "metadata": {},
   "source": [
    "## Extract Data Using an API\n"
   ]
  },
  {
   "cell_type": "markdown",
   "metadata": {},
   "source": [
    "Using ExchangeRate-API we will extract currency exchange rate data. Use the below steps to get the access key and to get the data.\n",
    "\n",
    "1.  Open the url : [https://exchangeratesapi.io/](https://exchangeratesapi.io/?utm_medium=Exinfluencer&utm_source=Exinfluencer&utm_content=000026UJ&utm_term=10006555&utm_id=NA-SkillsNetwork-Channel-SkillsNetworkCoursesIBMDeveloperSkillsNetworkPY0221ENSkillsNetwork23455645-2022-01-01) and click on **Get Free API Key**.\n",
    "2.  Subscribe for Free plan and Sign-in with the Google Account.\n",
    "3.  Once the account is created you will be redirected to [https://apilayer.com](https://apilayer.com/?utm_medium=Exinfluencer&utm_source=Exinfluencer&utm_content=000026UJ&utm_term=10006555&utm_id=NA-SkillsNetwork-Channel-SkillsNetworkCoursesIBMDeveloperSkillsNetworkPY0221ENSkillsNetwork23455645-2022-01-01) website.\n",
    "4.  Now, click on the **user icon** and click **Account** as shown below:\n",
    "\n",
    "<img src=\"https://cf-courses-data.s3.us.cloud-object-storage.appdomain.cloud/IBMDeveloperSkillsNetwork-PY0221EN-SkillsNetwork/labs/module%206/Final%20Assignment/Images/account.png\"/>\n",
    "\n",
    "3.  Scroll down and you will get the API Key section. Copy the API key and use in the url in Question 1.\n"
   ]
  },
  {
   "cell_type": "markdown",
   "metadata": {},
   "source": [
    "### Call the API\n",
    "\n",
    "<b> Question 1</b> Using the `requests` library call the endpoint given above and save the text, remember the first few characters of the output:\n"
   ]
  },
  {
   "cell_type": "code",
   "execution_count": 5,
   "metadata": {
    "tags": []
   },
   "outputs": [
    {
     "data": {
      "text/plain": [
       "{'success': True,\n",
       " 'timestamp': 1709294943,\n",
       " 'base': 'EUR',\n",
       " 'date': '2024-03-01',\n",
       " 'rates': {'AED': 3.974551,\n",
       "  'AFN': 78.962795,\n",
       "  'ALL': 104.008007,\n",
       "  'AMD': 440.101344,\n",
       "  'ANG': 1.95275,\n",
       "  'AOA': 900.334959,\n",
       "  'ARS': 911.526565,\n",
       "  'AUD': 1.662851,\n",
       "  'AWG': 1.94784,\n",
       "  'AZN': 1.837172,\n",
       "  'BAM': 1.955797,\n",
       "  'BBD': 2.187768,\n",
       "  'BDT': 118.909814,\n",
       "  'BGN': 1.957677,\n",
       "  'BHD': 0.407937,\n",
       "  'BIF': 3096.023757,\n",
       "  'BMD': 1.082133,\n",
       "  'BND': 1.457511,\n",
       "  'BOB': 7.487023,\n",
       "  'BRL': 5.365139,\n",
       "  'BSD': 1.083583,\n",
       "  'BTC': 1.7430619e-05,\n",
       "  'BTN': 89.817274,\n",
       "  'BWP': 14.94515,\n",
       "  'BYN': 3.545473,\n",
       "  'BYR': 21209.812754,\n",
       "  'BZD': 2.184068,\n",
       "  'CAD': 1.469072,\n",
       "  'CDF': 2992.098465,\n",
       "  'CHF': 0.957579,\n",
       "  'CLF': 0.037832,\n",
       "  'CLP': 1043.760955,\n",
       "  'CNY': 7.789842,\n",
       "  'COP': 4250.652081,\n",
       "  'CRC': 554.742705,\n",
       "  'CUC': 1.082133,\n",
       "  'CUP': 28.676533,\n",
       "  'CVE': 110.265337,\n",
       "  'CZK': 25.316515,\n",
       "  'DJF': 192.954854,\n",
       "  'DKK': 7.454102,\n",
       "  'DOP': 63.584895,\n",
       "  'DZD': 145.865108,\n",
       "  'EGP': 33.429801,\n",
       "  'ERN': 16.232,\n",
       "  'ETB': 61.163808,\n",
       "  'EUR': 1,\n",
       "  'FJD': 2.432906,\n",
       "  'FKP': 0.856622,\n",
       "  'GBP': 0.855838,\n",
       "  'GEL': 2.86764,\n",
       "  'GGP': 0.856622,\n",
       "  'GHS': 13.706042,\n",
       "  'GIP': 0.856622,\n",
       "  'GMD': 73.558006,\n",
       "  'GNF': 9311.329589,\n",
       "  'GTQ': 8.456026,\n",
       "  'GYD': 226.670692,\n",
       "  'HKD': 8.471643,\n",
       "  'HNL': 26.75806,\n",
       "  'HRK': 7.6075,\n",
       "  'HTG': 143.651102,\n",
       "  'HUF': 393.507494,\n",
       "  'IDR': 17020.333669,\n",
       "  'ILS': 3.853692,\n",
       "  'IMP': 0.856622,\n",
       "  'INR': 89.676982,\n",
       "  'IQD': 1418.197777,\n",
       "  'IRR': 45482.062848,\n",
       "  'ISK': 149.497013,\n",
       "  'JEP': 0.856622,\n",
       "  'JMD': 169.023012,\n",
       "  'JOD': 0.767261,\n",
       "  'JPY': 162.770146,\n",
       "  'KES': 158.529124,\n",
       "  'KGS': 96.7425,\n",
       "  'KHR': 4410.033841,\n",
       "  'KMF': 493.073656,\n",
       "  'KPW': 973.824548,\n",
       "  'KRW': 1444.345351,\n",
       "  'KWD': 0.333037,\n",
       "  'KYD': 0.902899,\n",
       "  'KZT': 488.869234,\n",
       "  'LAK': 22619.741292,\n",
       "  'LBP': 97030.469511,\n",
       "  'LKR': 335.559474,\n",
       "  'LRD': 207.33838,\n",
       "  'LSL': 20.765598,\n",
       "  'LTL': 3.195258,\n",
       "  'LVL': 0.654572,\n",
       "  'LYD': 5.234403,\n",
       "  'MAD': 10.949133,\n",
       "  'MDL': 19.265483,\n",
       "  'MGA': 4894.376774,\n",
       "  'MKD': 61.684756,\n",
       "  'MMK': 2275.375161,\n",
       "  'MNT': 3673.005599,\n",
       "  'MOP': 8.733986,\n",
       "  'MRU': 43.171262,\n",
       "  'MUR': 49.550544,\n",
       "  'MVR': 16.660948,\n",
       "  'MWK': 1824.040417,\n",
       "  'MXN': 18.422347,\n",
       "  'MYR': 5.135835,\n",
       "  'MZN': 68.715127,\n",
       "  'NAD': 20.76586,\n",
       "  'NGN': 1750.404286,\n",
       "  'NIO': 39.879937,\n",
       "  'NOK': 11.42821,\n",
       "  'NPR': 143.718064,\n",
       "  'NZD': 1.775315,\n",
       "  'OMR': 0.416559,\n",
       "  'PAB': 1.083403,\n",
       "  'PEN': 4.113556,\n",
       "  'PGK': 4.132146,\n",
       "  'PHP': 60.648193,\n",
       "  'PKR': 299.737974,\n",
       "  'PLN': 4.314454,\n",
       "  'PYG': 7908.608813,\n",
       "  'QAR': 3.939509,\n",
       "  'RON': 4.970025,\n",
       "  'RSD': 117.197157,\n",
       "  'RUB': 99.016759,\n",
       "  'RWF': 1382.80645,\n",
       "  'SAR': 4.058381,\n",
       "  'SBD': 9.186853,\n",
       "  'SCR': 14.695187,\n",
       "  'SDG': 650.361863,\n",
       "  'SEK': 11.182723,\n",
       "  'SGD': 1.456778,\n",
       "  'SHP': 1.365598,\n",
       "  'SLE': 24.559167,\n",
       "  'SLL': 21372.132409,\n",
       "  'SOS': 618.440069,\n",
       "  'SRD': 38.206334,\n",
       "  'STD': 22397.97457,\n",
       "  'SVC': 9.479985,\n",
       "  'SYP': 14068.965768,\n",
       "  'SZL': 20.840604,\n",
       "  'THB': 38.853979,\n",
       "  'TJS': 11.874636,\n",
       "  'TMT': 3.787467,\n",
       "  'TND': 3.382759,\n",
       "  'TOP': 2.567848,\n",
       "  'TRY': 33.914777,\n",
       "  'TTD': 7.352988,\n",
       "  'TWD': 34.231153,\n",
       "  'TZS': 2759.439934,\n",
       "  'UAH': 41.199172,\n",
       "  'UGX': 4255.012991,\n",
       "  'USD': 1.082133,\n",
       "  'UYU': 42.44013,\n",
       "  'UZS': 13540.041338,\n",
       "  'VEF': 3901348.998452,\n",
       "  'VES': 38.984436,\n",
       "  'VND': 26679.996605,\n",
       "  'VUV': 130.3899,\n",
       "  'WST': 2.98089,\n",
       "  'XAF': 656.0075,\n",
       "  'XAG': 0.047699,\n",
       "  'XAU': 0.000527,\n",
       "  'XCD': 2.924519,\n",
       "  'XDR': 0.816463,\n",
       "  'XOF': 656.0075,\n",
       "  'XPF': 119.331742,\n",
       "  'YER': 270.8576,\n",
       "  'ZAR': 20.739303,\n",
       "  'ZMK': 9740.501395,\n",
       "  'ZMW': 25.543966,\n",
       "  'ZWL': 348.446482}}"
      ]
     },
     "execution_count": 5,
     "metadata": {},
     "output_type": "execute_result"
    }
   ],
   "source": [
    "# Write your code here\n",
    "url = \"https://api.apilayer.com/exchangerates_data/latest?base=EUR&apikey=5lS8fWRInneTZ6cqULJYegRucU06NJC2\"\n",
    "response = requests.get(url)\n",
    "response.json()"
   ]
  },
  {
   "cell_type": "markdown",
   "metadata": {},
   "source": [
    "### Save as DataFrame\n",
    "\n",
    "<b> Question 2</b>  Using the data gathered turn it into a `pandas` dataframe. The dataframe should have the Currency as the index and `Rate` as their columns. Make sure to drop unnecessary columns.\n"
   ]
  },
  {
   "cell_type": "code",
   "execution_count": 6,
   "metadata": {
    "tags": []
   },
   "outputs": [
    {
     "data": {
      "text/html": [
       "<div>\n",
       "<style scoped>\n",
       "    .dataframe tbody tr th:only-of-type {\n",
       "        vertical-align: middle;\n",
       "    }\n",
       "\n",
       "    .dataframe tbody tr th {\n",
       "        vertical-align: top;\n",
       "    }\n",
       "\n",
       "    .dataframe thead th {\n",
       "        text-align: right;\n",
       "    }\n",
       "</style>\n",
       "<table border=\"1\" class=\"dataframe\">\n",
       "  <thead>\n",
       "    <tr style=\"text-align: right;\">\n",
       "      <th></th>\n",
       "      <th>success</th>\n",
       "      <th>timestamp</th>\n",
       "      <th>base</th>\n",
       "      <th>date</th>\n",
       "      <th>rates</th>\n",
       "    </tr>\n",
       "  </thead>\n",
       "  <tbody>\n",
       "    <tr>\n",
       "      <th>AED</th>\n",
       "      <td>True</td>\n",
       "      <td>1709294943</td>\n",
       "      <td>EUR</td>\n",
       "      <td>2024-03-01</td>\n",
       "      <td>3.974551</td>\n",
       "    </tr>\n",
       "    <tr>\n",
       "      <th>AFN</th>\n",
       "      <td>True</td>\n",
       "      <td>1709294943</td>\n",
       "      <td>EUR</td>\n",
       "      <td>2024-03-01</td>\n",
       "      <td>78.962795</td>\n",
       "    </tr>\n",
       "    <tr>\n",
       "      <th>ALL</th>\n",
       "      <td>True</td>\n",
       "      <td>1709294943</td>\n",
       "      <td>EUR</td>\n",
       "      <td>2024-03-01</td>\n",
       "      <td>104.008007</td>\n",
       "    </tr>\n",
       "    <tr>\n",
       "      <th>AMD</th>\n",
       "      <td>True</td>\n",
       "      <td>1709294943</td>\n",
       "      <td>EUR</td>\n",
       "      <td>2024-03-01</td>\n",
       "      <td>440.101344</td>\n",
       "    </tr>\n",
       "    <tr>\n",
       "      <th>ANG</th>\n",
       "      <td>True</td>\n",
       "      <td>1709294943</td>\n",
       "      <td>EUR</td>\n",
       "      <td>2024-03-01</td>\n",
       "      <td>1.952750</td>\n",
       "    </tr>\n",
       "    <tr>\n",
       "      <th>...</th>\n",
       "      <td>...</td>\n",
       "      <td>...</td>\n",
       "      <td>...</td>\n",
       "      <td>...</td>\n",
       "      <td>...</td>\n",
       "    </tr>\n",
       "    <tr>\n",
       "      <th>YER</th>\n",
       "      <td>True</td>\n",
       "      <td>1709294943</td>\n",
       "      <td>EUR</td>\n",
       "      <td>2024-03-01</td>\n",
       "      <td>270.857600</td>\n",
       "    </tr>\n",
       "    <tr>\n",
       "      <th>ZAR</th>\n",
       "      <td>True</td>\n",
       "      <td>1709294943</td>\n",
       "      <td>EUR</td>\n",
       "      <td>2024-03-01</td>\n",
       "      <td>20.739303</td>\n",
       "    </tr>\n",
       "    <tr>\n",
       "      <th>ZMK</th>\n",
       "      <td>True</td>\n",
       "      <td>1709294943</td>\n",
       "      <td>EUR</td>\n",
       "      <td>2024-03-01</td>\n",
       "      <td>9740.501395</td>\n",
       "    </tr>\n",
       "    <tr>\n",
       "      <th>ZMW</th>\n",
       "      <td>True</td>\n",
       "      <td>1709294943</td>\n",
       "      <td>EUR</td>\n",
       "      <td>2024-03-01</td>\n",
       "      <td>25.543966</td>\n",
       "    </tr>\n",
       "    <tr>\n",
       "      <th>ZWL</th>\n",
       "      <td>True</td>\n",
       "      <td>1709294943</td>\n",
       "      <td>EUR</td>\n",
       "      <td>2024-03-01</td>\n",
       "      <td>348.446482</td>\n",
       "    </tr>\n",
       "  </tbody>\n",
       "</table>\n",
       "<p>170 rows × 5 columns</p>\n",
       "</div>"
      ],
      "text/plain": [
       "     success   timestamp base        date        rates\n",
       "AED     True  1709294943  EUR  2024-03-01     3.974551\n",
       "AFN     True  1709294943  EUR  2024-03-01    78.962795\n",
       "ALL     True  1709294943  EUR  2024-03-01   104.008007\n",
       "AMD     True  1709294943  EUR  2024-03-01   440.101344\n",
       "ANG     True  1709294943  EUR  2024-03-01     1.952750\n",
       "..       ...         ...  ...         ...          ...\n",
       "YER     True  1709294943  EUR  2024-03-01   270.857600\n",
       "ZAR     True  1709294943  EUR  2024-03-01    20.739303\n",
       "ZMK     True  1709294943  EUR  2024-03-01  9740.501395\n",
       "ZMW     True  1709294943  EUR  2024-03-01    25.543966\n",
       "ZWL     True  1709294943  EUR  2024-03-01   348.446482\n",
       "\n",
       "[170 rows x 5 columns]"
      ]
     },
     "execution_count": 6,
     "metadata": {},
     "output_type": "execute_result"
    }
   ],
   "source": [
    "# Turn the data into a dataframe\n",
    "df = pd.DataFrame(response.json())\n",
    "df"
   ]
  },
  {
   "cell_type": "code",
   "execution_count": 7,
   "metadata": {
    "tags": []
   },
   "outputs": [],
   "source": [
    "# Drop unnescessary columns\n",
    "df.drop(columns=['success', 'timestamp', 'base', 'date'], inplace=True)\n",
    "\n",
    "# df.drop(columns = [\"success\", \"timestamp\", \"base\", \"date\"], inplace=True)\n",
    "# df\n",
    "\n",
    "# def extract(df):\n",
    "#     dataframe = pd.read_csv(df)\n",
    "#     return dataframe.head(5)"
   ]
  },
  {
   "cell_type": "code",
   "execution_count": 8,
   "metadata": {
    "tags": []
   },
   "outputs": [
    {
     "data": {
      "text/html": [
       "<div>\n",
       "<style scoped>\n",
       "    .dataframe tbody tr th:only-of-type {\n",
       "        vertical-align: middle;\n",
       "    }\n",
       "\n",
       "    .dataframe tbody tr th {\n",
       "        vertical-align: top;\n",
       "    }\n",
       "\n",
       "    .dataframe thead th {\n",
       "        text-align: right;\n",
       "    }\n",
       "</style>\n",
       "<table border=\"1\" class=\"dataframe\">\n",
       "  <thead>\n",
       "    <tr style=\"text-align: right;\">\n",
       "      <th></th>\n",
       "      <th>rates</th>\n",
       "    </tr>\n",
       "  </thead>\n",
       "  <tbody>\n",
       "    <tr>\n",
       "      <th>AED</th>\n",
       "      <td>3.974551</td>\n",
       "    </tr>\n",
       "    <tr>\n",
       "      <th>AFN</th>\n",
       "      <td>78.962795</td>\n",
       "    </tr>\n",
       "    <tr>\n",
       "      <th>ALL</th>\n",
       "      <td>104.008007</td>\n",
       "    </tr>\n",
       "    <tr>\n",
       "      <th>AMD</th>\n",
       "      <td>440.101344</td>\n",
       "    </tr>\n",
       "    <tr>\n",
       "      <th>ANG</th>\n",
       "      <td>1.952750</td>\n",
       "    </tr>\n",
       "  </tbody>\n",
       "</table>\n",
       "</div>"
      ],
      "text/plain": [
       "          rates\n",
       "AED    3.974551\n",
       "AFN   78.962795\n",
       "ALL  104.008007\n",
       "AMD  440.101344\n",
       "ANG    1.952750"
      ]
     },
     "execution_count": 8,
     "metadata": {},
     "output_type": "execute_result"
    }
   ],
   "source": [
    "df.head()"
   ]
  },
  {
   "cell_type": "markdown",
   "metadata": {},
   "source": [
    "### Load the Data\n",
    "\n",
    "Using the dataframe save it as a CSV names `exchange_rates_1.csv`.\n"
   ]
  },
  {
   "cell_type": "code",
   "execution_count": 9,
   "metadata": {
    "tags": []
   },
   "outputs": [],
   "source": [
    "# Save the Dataframe\n",
    "df.to_csv(\"exchange_rates_1.csv\")\n",
    "\n"
   ]
  },
  {
   "cell_type": "markdown",
   "metadata": {},
   "source": [
    "Your CSV should be in this format with more currencies\n",
    "\n",
    "|     | Rates      |\n",
    "| --- | ---------- |\n",
    "| AED | 4.398618   |\n",
    "| AFN | 92.917693  |\n",
    "| ALL | 123.099093 |\n",
    "| AMD | 621.935674 |\n",
    "| ANG | 2.149648   |\n"
   ]
  },
  {
   "cell_type": "code",
   "execution_count": 30,
   "metadata": {},
   "outputs": [
    {
     "ename": "NameError",
     "evalue": "name 'extract' is not defined",
     "output_type": "error",
     "traceback": [
      "\u001b[0;31m---------------------------------------------------------------------------\u001b[0m",
      "\u001b[0;31mNameError\u001b[0m                                 Traceback (most recent call last)",
      "\u001b[0;32m/tmp/ipykernel_69/4125569477.py\u001b[0m in \u001b[0;36m<module>\u001b[0;34m\u001b[0m\n\u001b[1;32m      1\u001b[0m \u001b[0;31m# extract\u001b[0m\u001b[0;34m\u001b[0m\u001b[0;34m\u001b[0m\u001b[0;34m\u001b[0m\u001b[0m\n\u001b[0;32m----> 2\u001b[0;31m \u001b[0mextracted_data\u001b[0m \u001b[0;34m=\u001b[0m \u001b[0mextract\u001b[0m\u001b[0;34m(\u001b[0m\u001b[0;34m)\u001b[0m\u001b[0;34m\u001b[0m\u001b[0;34m\u001b[0m\u001b[0m\n\u001b[0m\u001b[1;32m      3\u001b[0m \u001b[0mextracted_data\u001b[0m\u001b[0;34m.\u001b[0m\u001b[0mhead\u001b[0m\u001b[0;34m(\u001b[0m\u001b[0;36m5\u001b[0m\u001b[0;34m)\u001b[0m\u001b[0;34m\u001b[0m\u001b[0;34m\u001b[0m\u001b[0m\n",
      "\u001b[0;31mNameError\u001b[0m: name 'extract' is not defined"
     ]
    }
   ],
   "source": [
    "# extract\n",
    "\n",
    "extracted_data = extract()\n",
    "extracted_data.head(5)"
   ]
  },
  {
   "cell_type": "markdown",
   "metadata": {},
   "source": [
    "## Authors\n"
   ]
  },
  {
   "cell_type": "markdown",
   "metadata": {},
   "source": [
    "Ramesh Sannareddy, Joseph Santarcangelo and Azim Hirjani\n"
   ]
  },
  {
   "cell_type": "markdown",
   "metadata": {},
   "source": [
    "### Other Contributors\n"
   ]
  },
  {
   "cell_type": "markdown",
   "metadata": {},
   "source": [
    "Rav Ahuja\n"
   ]
  },
  {
   "cell_type": "markdown",
   "metadata": {},
   "source": [
    "## Change Log\n"
   ]
  },
  {
   "cell_type": "markdown",
   "metadata": {},
   "source": [
    "| Date (YYYY-MM-DD) | Version | Changed By        | Change Description                              |\n",
    "| ----------------- | ------- | ----------------- | ----------------------------------------------- |\n",
    "| 2022-05-06        | 0.3     | Malika            | Updated instructions to get the API and the url |\n",
    "| 2021-04-15        | 0.2     | Malika            | Updated the lab from USD to EUR                 |\n",
    "| 2020-11-25        | 0.1     | Ramesh Sannareddy | Created initial version of the lab              |\n"
   ]
  },
  {
   "cell_type": "markdown",
   "metadata": {},
   "source": [
    "Copyright © 2020 IBM Corporation. This notebook and its source code are released under the terms of the [MIT License](https://cognitiveclass.ai/mit-license?utm_medium=Exinfluencer&utm_source=Exinfluencer&utm_content=000026UJ&utm_term=10006555&utm_id=NA-SkillsNetwork-Channel-SkillsNetworkCoursesIBMDeveloperSkillsNetworkPY0221ENSkillsNetwork23455645-2022-01-01&cm_mmc=Email_Newsletter-\\_-Developer_Ed%2BTech-\\_-WW_WW-\\_-SkillsNetwork-Courses-IBM-DA0321EN-SkillsNetwork-21426264&cm_mmca1=000026UJ&cm_mmca2=10006555&cm_mmca3=M12345678&cvosrc=email.Newsletter.M12345678&cvo_campaign=000026UJ).\n"
   ]
  }
 ],
 "metadata": {
  "kernelspec": {
   "display_name": "Python",
   "language": "python",
   "name": "conda-env-python-py"
  },
  "language_info": {
   "codemirror_mode": {
    "name": "ipython",
    "version": 3
   },
   "file_extension": ".py",
   "mimetype": "text/x-python",
   "name": "python",
   "nbconvert_exporter": "python",
   "pygments_lexer": "ipython3",
   "version": "3.7.12"
  }
 },
 "nbformat": 4,
 "nbformat_minor": 4
}
